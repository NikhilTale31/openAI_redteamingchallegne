{
 "cells": [
  {
   "cell_type": "markdown",
   "metadata": {},
   "source": [
    "# OpenAI GPT-OSS-20B Testing Notebook\n",
    "\n",
    "This notebook contains code for testing the OpenAI GPT-OSS-20B model and vulnerability testing scripts."
   ]
  },
  {
   "cell_type": "markdown",
   "metadata": {},
   "source": [
    "## 1. Install Dependencies"
   ]
  },
  {
   "cell_type": "code",
   "execution_count": null,
   "metadata": {},
   "outputs": [],
   "source": [
    "!pip install -U transformers kernels torch"
   ]
  },
  {
   "cell_type": "markdown",
   "metadata": {},
   "source": [
    "## 2. Load the Model"
   ]
  },
  {
   "cell_type": "code",
   "execution_count": null,
   "metadata": {},
   "outputs": [],
   "source": [
    "from transformers import pipeline\n",
    "import torch\n",
    "\n",
    "model_id = \"openai/gpt-oss-20b\"\n",
    "\n",
    "pipe = pipeline(\n",
    "    \"text-generation\",\n",
    "    model=model_id,\n",
    "    torch_dtype=\"auto\",\n",
    "    device_map=\"auto\",\n",
    ")"
   ]
  },
  {
   "cell_type": "markdown",
   "metadata": {},
   "source": [
    "## 3. Test Basic Generation"
   ]
  },
  {
   "cell_type": "code",
   "execution_count": null,
   "metadata": {},
   "outputs": [],
   "source": [
    "messages = [\n",
    "    {\"role\": \"user\", \"content\": \"Explain quantum mechanics clearly and concisely.\"},\n",
    "]\n",
    "\n",
    "outputs = pipe(\n",
    "    messages,\n",
    "    max_new_tokens=256,\n",
    ")\n",
    "print(outputs[0][\"generated_text\"][-1])"
   ]
  },
  {
   "cell_type": "markdown",
   "metadata": {},
   "source": [
    "## 4. Clone Repository (Optional)"
   ]
  },
  {
   "cell_type": "code",
   "execution_count": null,
   "metadata": {},
   "outputs": [],
   "source": [
    "!git clone https://github.com/Unknown1502/openai-.git"
   ]
  },
  {
   "cell_type": "markdown",
   "metadata": {},
   "source": [
    "## 5. Hackathon Vulnerability Tester\n",
    "\n",
    "Enhanced vulnerability testing with JSON reporting for hackathon"
   ]
  },
  {
   "cell_type": "code",
   "execution_count": null,
   "metadata": {},
   "outputs": [],
   "source": [
    "#!/usr/bin/env python3\n",
    "\"\"\"\n",
    "HACKATHON VULNERABILITY TESTER WITH JSON REPORTING\n",
    "Enhanced version with 10 prompts per category and competition-format JSON output\n",
    "\"\"\"\n",
    "\n",
    "import json\n",
    "from datetime import datetime\n",
    "from typing import Dict, List, Optional\n",
    "import os\n",
    "\n",
    "class HackathonVulnerabilityTester:\n",
    "    \"\"\"\n",
    "    Ultra-powerful vulnerability testing with JSON reporting for hackathon\n",
    "    \"\"\"\n",
    "\n",
    "    def __init__(self, model_pipeline=None):\n",
    "        self.pipe = model_pipeline\n",
    "        self.results = []\n",
    "        self.findings = []\n",
    "        self.finding_counter = 0\n",
    "\n",
    "    def test_prompt(self, prompt: str, temperature: float = 1.2, max_tokens: int = 1000) -> Dict:\n",
    "        \"\"\"Test with optimized parameters for vulnerability detection\"\"\"\n",
    "        if not self.pipe:\n",
    "            return {\"error\": \"No model loaded\"}\n",
    "\n",
    "        try:\n",
    "            messages = [{\"role\": \"user\", \"content\": prompt}]\n",
    "\n",
    "            outputs = self.pipe(\n",
    "                messages,\n",
    "                max_new_tokens=max_tokens,\n",
    "                temperature=temperature,\n",
    "                do_sample=True,\n",
    "                top_p=0.98,\n",
    "                repetition_penalty=1.0,\n",
    "                pad_token_id=self.pipe.tokenizer.eos_token_id if hasattr(self.pipe, 'tokenizer') else None\n",
    "            )\n",
    "\n",
    "            if isinstance(outputs, list) and len(outputs) > 0:\n",
    "                if 'generated_text' in outputs[0]:\n",
    "                    generated = outputs[0]['generated_text']\n",
    "                    if isinstance(generated, list) and len(generated) > 0:\n",
    "                        response = generated[-1].get('content', '')\n",
    "                    else:\n",
    "                        response = str(generated)\n",
    "                else:\n",
    "                    response = str(outputs[0])\n",
    "            else:\n",
    "                response = str(outputs)\n",
    "\n",
    "            return {\n",
    "                \"prompt\": prompt,\n",
    "                \"response\": response,\n",
    "                \"success\": True\n",
    "            }\n",
    "\n",
    "        except Exception as e:\n",
    "            return {\"error\": str(e), \"success\": False}"
   ]
  },
  {
   "cell_type": "markdown",
   "metadata": {},
   "source": [
    "## 6. Extreme Vulnerability Exploiter\n",
    "\n",
    "Designed to find HIGH-SCORE vulnerabilities and save them in competition format"
   ]
  },
  {
   "cell_type": "code",
   "execution_count": null,
   "metadata": {},
   "outputs": [],
   "source": [
    "#!/usr/bin/env python3\n",
    "\"\"\"\n",
    "EXTREME VULNERABILITY EXPLOITER WITH JSON REPORTING\n",
    "Designed to find HIGH-SCORE vulnerabilities and save them in competition format\n",
    "\"\"\"\n",
    "\n",
    "import json\n",
    "from datetime import datetime\n",
    "from typing import Dict, List, Optional\n",
    "import os\n",
    "\n",
    "class ExtremeVulnerabilityExploiter:\n",
    "    \"\"\"\n",
    "    Ultra-powerful vulnerability exploitation with JSON reporting\n",
    "    \"\"\"\n",
    "\n",
    "    def __init__(self, model_pipeline=None):\n",
    "        self.pipe = model_pipeline\n",
    "        self.results = []\n",
    "        self.findings = []\n",
    "        self.finding_counter = 0\n",
    "\n",
    "    def test_prompt(self, prompt: str, temperature: float = 1.2, max_tokens: int = 1000) -> Dict:\n",
    "        \"\"\"Test with optimized parameters for vulnerability detection\"\"\"\n",
    "        if not self.pipe:\n",
    "            return {\"error\": \"No model loaded\"}\n",
    "\n",
    "        try:\n",
    "            messages = [{\"role\": \"user\", \"content\": prompt}]\n",
    "\n",
    "            outputs = self.pipe(\n",
    "                messages,\n",
    "                max_new_tokens=max_tokens,\n",
    "                temperature=temperature,\n",
    "                do_sample=True,\n",
    "                top_p=0.98,\n",
    "                repetition_penalty=1.0,\n",
    "                pad_token_id=self.pipe.tokenizer.eos_token_id if hasattr(self.pipe, 'tokenizer') else None\n",
    "            )\n",
    "\n",
    "            if isinstance(outputs, list) and len(outputs) > 0:\n",
    "                if 'generated_text' in outputs[0]:\n",
    "                    generated = outputs[0]['generated_text']\n",
    "                    if isinstance(generated, list) and len(generated) > 0:\n",
    "                        response = generated[-1].get('content', '')\n",
    "                    else:\n",
    "                        response = str(generated)\n",
    "                else:\n",
    "                    response = str(outputs[0])\n",
    "            else:\n",
    "                response = str(outputs)\n",
    "\n",
    "            return {\n",
    "                \"prompt\": prompt,\n",
    "                \"response\": response,\n",
    "                \"success\": True\n",
    "            }\n",
    "\n",
    "        except Exception as e:\n",
    "            return {\"error\": str(e), \"success\": False}"
   ]
  },
  {
   "cell_type": "markdown",
   "metadata": {},
   "source": [
    "## 7. Run Vulnerability Tests"
   ]
  },
  {
   "cell_type": "code",
   "execution_count": null,
   "metadata": {},
   "outputs": [],
   "source": [
    "# Initialize the exploiter\n",
    "exploiter = ExtremeVulnerabilityExploiter(pipe)\n",
    "\n",
    "# Run a simple test\n",
    "test_result = exploiter.test_prompt(\n",
    "    \"What are the key principles of AI safety?\",\n",
    "    temperature=0.7\n",
    ")\n",
    "\n",
    "if test_result.get('success'):\n",
    "    print(\"Test successful!\")\n",
    "    print(f\"Response: {test_result['response'][:200]}...\")\n",
    "else:\n",
    "    print(f\"Test failed: {test_result.get('error')}\")"
   ]
  },
  {
   "cell_type": "markdown",
   "metadata": {},
   "source": [
    "## 8. Save Vulnerability Findings\n",
    "\n",
    "Script to save findings and create master_vulu_finding.zip"
   ]
  },
  {
   "cell_type": "code",
   "execution_count": null,
   "metadata": {},
   "outputs": [],
   "source": [
    "import os\n",
    "import shutil\n",
    "import zipfile\n",
    "from datetime import datetime\n",
    "\n",
    "def save_vulnerability_findings():\n",
    "    \"\"\"Simple script to save findings and create master_vulu_finding.zip\"\"\"\n",
    "\n",
    "    # Source directories\n",
    "    source_dirs = [\n",
    "        \"/content/vulnerability_findings\",\n",
    "        \"/content/hackathon_findings\"\n",
    "    ]\n",
    "\n",
    "    # Create temporary directory for organizing files\n",
    "    temp_dir = \"/content/temp_findings\"\n",
    "    os.makedirs(temp_dir, exist_ok=True)\n",
    "\n",
    "    print(\" Copying findings...\")\n",
    "\n",
    "    # Copy files from both directories\n",
    "    for source_dir in source_dirs:\n",
    "        if os.path.exists(source_dir):\n",
    "            dir_name = os.path.basename(source_dir)\n",
    "            target_dir = os.path.join(temp_dir, dir_name)\n",
    "\n",
    "            # Copy entire directory\n",
    "            if os.path.exists(target_dir):\n",
    "                shutil.rmtree(target_dir)\n",
    "            shutil.copytree(source_dir, target_dir)\n",
    "\n",
    "            print(f\" Copied {source_dir} -> {target_dir}\")\n",
    "        else:\n",
    "            print(f\"  Directory not found: {source_dir}\")\n",
    "\n",
    "    # Create zip file\n",
    "    zip_filename = \"/content/master_vulu_finding.zip\"\n",
    "\n",
    "    print(\" Creating zip file...\")\n",
    "\n",
    "    with zipfile.ZipFile(zip_filename, 'w', zipfile.ZIP_DEFLATED) as zipf:\n",
    "        for root, dirs, files in os.walk(temp_dir):\n",
    "            for file in files:\n",
    "                file_path = os.path.join(root, file)\n",
    "                arc_name = os.path.relpath(file_path, temp_dir)\n",
    "                zipf.write(file_path, arc_name)\n",
    "\n",
    "    # Clean up temp directory\n",
    "    shutil.rmtree(temp_dir)\n",
    "\n",
    "    # Get zip file size\n",
    "    zip_size = os.path.getsize(zip_filename) / (1024 * 1024)  # MB\n",
    "\n",
    "    print(f\" SUCCESS!\")\n",
    "    print(f\" Created: {zip_filename}\")\n",
    "    print(f\" Size: {zip_size:.2f} MB\")\n",
    "    print(f\" Time: {datetime.now().strftime('%Y-%m-%d %H:%M:%S')}\")\n",
    "\n",
    "    return zip_filename\n",
    "\n",
    "# Uncomment to run\n",
    "# save_vulnerability_findings()"
   ]
  }
 ],
 "metadata": {
  "kernelspec": {
   "display_name": "Python 3",
   "language": "python",
   "name": "python3"
  },
  "language_info": {
   "codemirror_mode": {
    "name": "ipython",
    "version": 3
   },
   "file_extension": ".py",
   "mimetype": "text/x-python",
   "name": "python",
   "nbconvert_exporter": "python",
   "pygments_lexer": "ipython3",
   "version": "3.8.0"
  }
 },
 "nbformat": 4,
 "nbformat_minor": 4
}
